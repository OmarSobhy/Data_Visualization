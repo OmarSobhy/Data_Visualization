{
 "cells": [
  {
   "cell_type": "markdown",
   "metadata": {},
   "source": [
    "> **Tip**: Welcome to the Investigate a Dataset project! You will find tips in quoted sections like this to help organize your approach to your investigation. Before submitting your project, it will be a good idea to go back through your report and remove these sections to make the presentation of your work as tidy as possible. First things first, you might want to double-click this Markdown cell and change the title so that it reflects your dataset and investigation.\n",
    "\n",
    "# Project: Investigate a Dataset (Replace this with something more specific!)\n",
    "\n",
    "## Table of Contents\n",
    "<ul>\n",
    "<li><a href=\"#intro\">Introduction</a></li>\n",
    "<li><a href=\"#wrangling\">Data Wrangling</a></li>\n",
    "<li><a href=\"#eda\">Exploratory Data Analysis</a></li>\n",
    "<li><a href=\"#conclusions\">Conclusions</a></li>\n",
    "</ul>"
   ]
  },
  {
   "cell_type": "markdown",
   "metadata": {},
   "source": [
    "<a id='intro'></a>\n",
    "## Introduction\n",
    "\n",
    "> **Tip**: In this section of the report, provide a brief introduction to the dataset you've selected for analysis. At the end of this section, describe the questions that you plan on exploring over the course of the report. Try to build your report around the analysis of at least one dependent variable and three independent variables. If you're not sure what questions to ask, then make sure you familiarize yourself with the dataset, its variables and the dataset context for ideas of what to explore.\n",
    "\n",
    "> If you haven't yet selected and downloaded your data, make sure you do that first before coming back here. In order to work with the data in this workspace, you also need to upload it to the workspace. To do so, click on the jupyter icon in the upper left to be taken back to the workspace directory. There should be an 'Upload' button in the upper right that will let you add your data file(s) to the workspace. You can then click on the .ipynb file name to come back here."
   ]
  },
  {
   "cell_type": "code",
   "execution_count": 1,
   "metadata": {},
   "outputs": [],
   "source": [
    "# Use this cell to set up import statements for all of the packages that you\n",
    "#   plan to use.\n",
    "\n",
    "# Remember to include a 'magic word' so that your visualizations are plotted\n",
    "#   inline with the notebook. See this page for more:\n",
    "#   http://ipython.readthedocs.io/en/stable/interactive/magics.html\n",
    "import pandas as pd\n",
    "import numpy as np\n",
    "%matplotlib inline"
   ]
  },
  {
   "cell_type": "markdown",
   "metadata": {},
   "source": [
    "<a id='wrangling'></a>\n",
    "## Data Wrangling\n",
    "\n",
    "> **Tip**: In this section of the report, you will load in the data, check for cleanliness, and then trim and clean your dataset for analysis. Make sure that you document your steps carefully and justify your cleaning decisions.\n",
    "\n",
    "### General Properties"
   ]
  },
  {
   "cell_type": "code",
   "execution_count": 15,
   "metadata": {},
   "outputs": [],
   "source": [
    "# Load your data and print out a few lines. Perform operations to inspect data\n",
    "#   types and look for instances of missing or possibly errant data.\n",
    "df_movies = pd.read_csv('E:/Omar\\'s Stuff/College related/Forth Year/fwd/Project 1/tmdb-movies.csv')"
   ]
  },
  {
   "cell_type": "markdown",
   "metadata": {},
   "source": [
    "> **Tip**: You should _not_ perform too many operations in each cell. Create cells freely to explore your data. One option that you can take with this project is to do a lot of explorations in an initial notebook. These don't have to be organized, but make sure you use enough comments to understand the purpose of each code cell. Then, after you're done with your analysis, create a duplicate notebook where you will trim the excess and organize your steps so that you have a flowing, cohesive report.\n",
    "\n",
    "> **Tip**: Make sure that you keep your reader informed on the steps that you are taking in your investigation. Follow every code cell, or every set of related code cells, with a markdown cell to describe to the reader what was found in the preceding cell(s). Try to make it so that the reader can then understand what they will be seeing in the following cell(s).\n",
    "\n",
    "### Data Cleaning (Replace this with more specific notes!)\n",
    "it seems that there were a lot of null vals in the dataframe like, production company, director name etc.\n",
    "so i replaced the null vals in both with appropriate values and also I have removed the homepage column as it seemed that it had no use or importance to the dataframe in general\n",
    "I have also filled in some values in the overviews column with some revies from the internet about those movies\n",
    "I wanted to see the revenue_adj and budget_adj and it seems that more than half of those columns' rows is empty(their value is 0.0) \n",
    "I think these colums also have no affection on our datafram in general so I removed them"
   ]
  },
  {
   "cell_type": "code",
   "execution_count": null,
   "metadata": {
    "collapsed": true
   },
   "outputs": [],
   "source": [
    "# After discussing the structure of the data and any problems that need to be\n",
    "#   cleaned, perform those cleaning steps in the second part of this section.\n",
    "df_movies['production_companies'].fillna('prod company not known', inplace = True)\n",
    "df_movies['director'].fillna('movie director not known', inplace = True)\n",
    "df_movies = df_movies.drop('homepage', axis = 1)\n",
    "df_movies['cast'].fillna('movie cast not known', inplace = True)df_movies['overview'][548] = 'shocking, I watched Sense8 when it first came out with zero expectations, knowing nothing about the show. It is quite deep with many stories going on at the same time that all unite. It is truly amazing to watch as these characters build into symbolic roles and act as one. Sense8 had so many powerful scenes. It leaves you really feeling what the characters are filling. This series was different then any other series, very unique on how they told the story. The final movie was no doubt rushed and not finished with the same quality as the series. However, that does not take away the true value of this series. Would of been a 10/10 if final movie was finished with the same quality.'\n",
    "df_movies['overview'][2370] = 'what an amazing true story - real, heartwarming, and super lovable, this is one of my all-time favorite TV movies'\n",
    "df_movies['overview'][3722] = 'Gaetano is a Street Cop who moves to the North. He is much troubled and strongly indebted. When a friend of Gateano, since always in love with him, plays the winning card in the lottery, Gaetano marries her. What they do not suspect is that she has given the win to charity.'\n",
    "df_movies['overview'][3794] = \"Lately, watching Paris in movies (« frantic », « max »), i would say that this wasn't my Paris : Now, this is the one i live everyday, in subway, in streets. Paris isn't an united or tolerant city but an addition of ghetto: it's the left-bank vs the the right-bank, the wealthy vs the poor, the white vs the non-white. Last year during my trip in Sweden, i learned the word « gentrification » and i think that what's happening to Paris : in short, Paris is the home of those who have money and they oust slowly but surely those who haven't. This movie isn't really about gentrification but the dynamic is here : the boy from the powerful family and the girl from the poor district : if the beginning is light and happy and makes think it will be superficial musical comedy, the story takes a dramatic turn as soon as the illegal mother is arrested : strangely, the songs are much better, especially Balavoines « save love » ! By dealing with the immigrant fate, the movie really wins a heart, all the more that this subject is usually put in the closet. The lines are powerful with one side talking about file, number and the other fighting with person, family ! Leila is always good playing rebellious, upright characters and if like her partner, she dances better than she sings, this movie is definitely a happy breath in our old dusty and blind french cinema.\"\n",
    "df_movies['tagline'].fillna('tagline of this movie is not found', inplace = True)\n",
    "df_movies['keywords'].fillna('keywords of this movie is not found', inplace = True)\n",
    "df_movies['genres'].fillna('genres of this movie is not found', inplace = True)"
   ]
  },
  {
   "cell_type": "code",
   "execution_count": null,
   "metadata": {},
   "outputs": [],
   "source": [
    "df_movies.query('revenue_adj == 0').shape\n",
    "df_movies.query('budget_adj == 0').shape\n",
    "df_movies = df_movies.drop('budget_adj', axis = 1)\n",
    "df_movies = df_movies.drop('revenue_adj', axis = 1)"
   ]
  },
  {
   "cell_type": "markdown",
   "metadata": {},
   "source": [
    "<a id='eda'></a>\n",
    "## Exploratory Data Analysis\n",
    "\n",
    "> **Tip**: Now that you've trimmed and cleaned your data, you're ready to move on to exploration. Compute statistics and create visualizations with the goal of addressing the research questions that you posed in the Introduction section. It is recommended that you be systematic with your approach. Look at one variable at a time, and then follow it up by looking at relationships between variables.\n",
    "\n",
    "### what are the most popular genres?"
   ]
  },
  {
   "cell_type": "code",
   "execution_count": null,
   "metadata": {
    "collapsed": true
   },
   "outputs": [],
   "source": [
    "# Use this, and more code cells, to explore your data. Don't forget to add\n",
    "#   Markdown cells to document your observations and findings.\n",
    "genres_pop = df_movies[['popularity', 'genres']]\n",
    "morethan5 = genres_pop.query('popularity >= 5')\n",
    "morethan5.plot(x = 'genres', y = 'popularity', kind = 'line', figsize = (20, 20));"
   ]
  },
  {
   "cell_type": "markdown",
   "metadata": {},
   "source": [
    "### what are the most important attributes that affect the revenues"
   ]
  },
  {
   "cell_type": "code",
   "execution_count": null,
   "metadata": {
    "collapsed": true
   },
   "outputs": [],
   "source": [
    "# Continue to explore the data to address your additional research\n",
    "#   questions. Add more headers as needed if you have more questions to\n",
    "#   investigate.\n",
    "popVsRev = df_movies[['popularity', 'revenue']]\n",
    "popVsRev.plot(x = 'popularity', y = 'revenue', kind = 'scatter', figsize = (8, 8));"
   ]
  },
  {
   "cell_type": "code",
   "execution_count": null,
   "metadata": {},
   "outputs": [],
   "source": [
    "budgetVsRev = df_movies[['budget', 'revenue']]\n",
    "fig = plt.figure(figsize = (10, 5))\n",
    "budgetVsRev.plot(x = 'budget', y = 'revenue', kind = 'scatter', figsize = (8, 8));\n",
    "plt.xlabel(\"Budget payed\") \n",
    "plt.ylabel(\"Revenues recieved\") \n",
    "plt.title(\"Budget Vs Revenue\") \n",
    "plt.show() "
   ]
  },
  {
   "cell_type": "code",
   "execution_count": null,
   "metadata": {},
   "outputs": [],
   "source": [
    "directorVsRev = df_movies[['director', 'revenue']]\n",
    "fig = plt.figure(figsize = (10, 5))\n",
    "directorVsRev.plot(x = 'director', y = 'revenue', kind = 'line', figsize = (20, 8));\n",
    "plt.xlabel(\"director name\") \n",
    "plt.ylabel(\"Revenues recieved\") \n",
    "plt.title(\"director Vs Revenue\") \n",
    "plt.show() "
   ]
  },
  {
   "cell_type": "code",
   "execution_count": null,
   "metadata": {},
   "outputs": [],
   "source": [
    "genresVsRev = df_movies[['genres', 'revenue']]\n",
    "fig = plt.figure(figsize = (10, 5))\n",
    "genresVsRev.plot(x = 'genres', y = 'revenue', kind = 'line', figsize = (22, 12));\n",
    "plt.xlabel(\"genres names\") \n",
    "plt.ylabel(\"Revenues recieved\") \n",
    "plt.title(\"Genres Vs Revenue\") \n",
    "plt.show() "
   ]
  },
  {
   "cell_type": "markdown",
   "metadata": {},
   "source": [
    "<a id='conclusions'></a>\n",
    "## Conclusions\n",
    "\n",
    "> **Tip**: Finally, summarize your findings and the results that have been performed. Make sure that you are clear with regards to the limitations of your exploration. If you haven't done any statistical tests, do not imply any statistical conclusions. And make sure you avoid implying causation from correlation!\n",
    "\n",
    "> **Tip**: Once you are satisfied with your work here, check over your report to make sure that it is satisfies all the areas of the rubric (found on the project submission page at the end of the lesson). You should also probably remove all of the \"Tips\" like this one so that the presentation is as polished as possible.\n",
    " \n",
    " \n",
    ">**finding**it seems that there were a lot of null vals in the dataframe like, production company, director name etc.\n",
    "so i replaced the null vals in both with appropriate values and also I have removed the homepage column as it seemed that it had no use or importance to the dataframe in general\n",
    "I have also filled in some values in the overviews column with some revies from the internet about those movies\n",
    "I wanted to see the revenue_adj and budget_adj and it seems that more than half of those columns' rows is empty(their value is 0.0) \n",
    "I think these colums also have no affection on our datafram in general so I removed them \n",
    "\n",
    ">**finding**: i found out that the adventure, action, thriller and science fiction is the most popular genres\n",
    "\n",
    ">**finding**:it seems that the popularity of a film is a mojor affector to its revenue, howeve there are some movies where ther popularity was not that big but had good revenues\n",
    ">**finding**: it looks like that the budget does not have a major role in determining the revenues, but there is some outliers that you had a huge budget but recieved small revenues and vice versa\n",
    ">**finding**:it looks like there are some directors which are associated with high revenues\n",
    ">**finding**:it also seems that the animation/family/fantasy/adventure genres have the highest revenues\n",
    "\n",
    "## Submitting your Project \n",
    "\n",
    "> Before you submit your project, you need to create a .html or .pdf version of this notebook in the workspace here. To do that, run the code cell below. If it worked correctly, you should get a return code of 0, and you should see the generated .html file in the workspace directory (click on the orange Jupyter icon in the upper left).\n",
    "\n",
    "> Alternatively, you can download this report as .html via the **File** > **Download as** submenu, and then manually upload it into the workspace directory by clicking on the orange Jupyter icon in the upper left, then using the Upload button.\n",
    "\n",
    "> Once you've done this, you can submit your project by clicking on the \"Submit Project\" button in the lower right here. This will create and submit a zip file with this .ipynb doc and the .html or .pdf version you created. Congratulations!"
   ]
  },
  {
   "cell_type": "code",
   "execution_count": null,
   "metadata": {
    "collapsed": true
   },
   "outputs": [],
   "source": [
    "from subprocess import call\n",
    "call(['python', '-m', 'nbconvert', 'Investigate_a_Dataset.ipynb'])"
   ]
  }
 ],
 "metadata": {
  "kernelspec": {
   "display_name": "Python 3",
   "language": "python",
   "name": "python3"
  },
  "language_info": {
   "codemirror_mode": {
    "name": "ipython",
    "version": 3
   },
   "file_extension": ".py",
   "mimetype": "text/x-python",
   "name": "python",
   "nbconvert_exporter": "python",
   "pygments_lexer": "ipython3",
   "version": "3.6.3"
  }
 },
 "nbformat": 4,
 "nbformat_minor": 2
}
